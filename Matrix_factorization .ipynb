{
 "cells": [
  {
   "cell_type": "markdown",
   "metadata": {},
   "source": [
    "# AiDM assignment 1\n",
    "## Recommender system --- Matrix factorization \n",
    "\n",
    "### Read data\n",
    "We load the ratings data into a matrix which has 4 columns. The first column gives the user id. The second column gives the movie id. The third column gives the rating which can only be a integer from 1 to 5. The fourth column gives the timestamp in a unit of second."
   ]
  },
  {
   "cell_type": "code",
   "execution_count": 1,
   "metadata": {},
   "outputs": [],
   "source": [
    "import numpy as np\n",
    "data = np.genfromtxt('ml-1m/ratings.dat', delimiter= '::')"
   ]
  },
  {
   "cell_type": "markdown",
   "metadata": {},
   "source": [
    "## Gradient descent\n",
    "Next we create a list containing the unique user and movie ids, as well as a vector of 20 weights for each. We will train the network so that the dot product of a given user vector with a movie vector will be a prediction of the user's rating for that movie. In this way, the weights of a movie might reflect certain qualities whereas the weights of a user might reflect which qualities that particular user prefers."
   ]
  },
  {
   "cell_type": "code",
   "execution_count": 2,
   "metadata": {},
   "outputs": [],
   "source": [
    "user_list = np.unique(data[:,0])\n",
    "movie_list = np.unique(data[:,1])\n",
    "user_vector = np.random.uniform(size=(len(user_list),20))\n",
    "movie_vector = np.random.uniform(size=(len(movie_list),20))"
   ]
  },
  {
   "cell_type": "markdown",
   "metadata": {},
   "source": [
    "Next we create vectors of the indicies for the weights vectors for the users and movies in the original data from ratings.dat. This is important since weight vectors for *unique* movies is not the same as the movie id, since there some movies which have not been rated in the data and it would be unhelpful to have random, unconstrained wieght vectors for movies not rated in the data."
   ]
  },
  {
   "cell_type": "code",
   "execution_count": 7,
   "metadata": {},
   "outputs": [
    {
     "name": "stdout",
     "output_type": "stream",
     "text": [
      "[   0.    0.    0. ... 6039. 6039. 6039.]\n",
      "[1104.  639.  853. ...  548. 1024. 1025.]\n",
      "[1193.  661.  914. ...  562. 1096. 1097.]\n"
     ]
    }
   ],
   "source": [
    "user_locator = np.zeros(len(data))\n",
    "movie_locator = np.zeros(len(data))\n",
    "for i in range(len(data)):\n",
    "    user_locator[i] = np.where(user_list==data[i,0])[0][0]\n",
    "    movie_locator[i] = np.where(movie_list==data[i,1])[0][0]\n",
    "print(user_locator)\n",
    "print(movie_locator)\n",
    "print(data[:,1]) # Not the same! There are some unrated movies."
   ]
  },
  {
   "cell_type": "code",
   "execution_count": 52,
   "metadata": {},
   "outputs": [],
   "source": [
    "lrate = 0.001\n",
    "lamb = 0.01\n",
    "for count in range(10):\n",
    "    for i in range(len(data)):\n",
    "        est_rating = np.dot(user_vector[int(user_locator[i])],movie_vector[int(movie_locator[i])])\n",
    "        if est_rating < 1 :\n",
    "            est_rating = 1\n",
    "        if est_rating > 5 :\n",
    "            est_rating = 5\n",
    "        error = data[i,2] - est_rating\n",
    "        user_vector[int(user_locator[i])]  += \\\n",
    "        lrate * (error * movie_vector[int(movie_locator[i])] - lamb *  user_vector[int(user_locator[i])])\n",
    "        movie_vector[int(movie_locator[i])] += \\\n",
    "        lrate * (error * user_vector[int(user_locator[i])] - lamb * movie_vector[int(movie_locator[i])])\n",
    "    count += 1"
   ]
  },
  {
   "cell_type": "code",
   "execution_count": 58,
   "metadata": {},
   "outputs": [
    {
     "data": {
      "text/plain": [
       "3.3102970966053937"
      ]
     },
     "execution_count": 58,
     "metadata": {},
     "output_type": "execute_result"
    }
   ],
   "source": [
    "np.dot(user_vector[int(user_locator[1])],movie_vector[int(movie_locator[1])])"
   ]
  },
  {
   "cell_type": "code",
   "execution_count": null,
   "metadata": {},
   "outputs": [],
   "source": [
    "print(\"Test Git Push\")"
   ]
  }
 ],
 "metadata": {
  "kernelspec": {
   "display_name": "Python 3",
   "language": "python",
   "name": "python3"
  },
  "language_info": {
   "codemirror_mode": {
    "name": "ipython",
    "version": 3
   },
   "file_extension": ".py",
   "mimetype": "text/x-python",
   "name": "python",
   "nbconvert_exporter": "python",
   "pygments_lexer": "ipython3",
   "version": "3.6.7"
  }
 },
 "nbformat": 4,
 "nbformat_minor": 2
}
