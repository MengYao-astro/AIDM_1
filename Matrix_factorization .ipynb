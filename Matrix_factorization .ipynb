{
 "cells": [
  {
   "cell_type": "markdown",
   "metadata": {},
   "source": [
    "# AiDM assignment 1\n",
    "## Recommender system --- Matrix factorization \n",
    "\n",
    "## Read data\n",
    "We load the ratings data into a matrix which has 4 columns. The first column gives the user id. The second column gives the movie id. The third column gives the rating which can only be a integer from 1 to 5. The fourth column gives the timestamp in a unit of second."
   ]
  },
  {
   "cell_type": "code",
   "execution_count": 2,
   "metadata": {},
   "outputs": [],
   "source": [
    "import numpy as np\n",
    "data_all = np.genfromtxt('ml-1m/ratings.dat', delimiter= '::')"
   ]
  },
  {
   "cell_type": "markdown",
   "metadata": {},
   "source": [
    "## Gradient descent\n",
    "Next we create a list containing the unique user and movie ids, as well as a vector of 20 weights for each. We will train the network so that the dot product of a given user vector with a movie vector will be a prediction of the user's rating for that movie. In this way, the weights of a movie might reflect certain qualities whereas the weights of a user might reflect which qualities that particular user prefers."
   ]
  },
  {
   "cell_type": "code",
   "execution_count": 49,
   "metadata": {},
   "outputs": [],
   "source": [
    "def training(data, length, lrate, lamb, Iterations):\n",
    "\n",
    "    '''\n",
    "    we create a list containing the unique user and movie ids, as well as a vector of 20 weights for each. \n",
    "    We will train the network so that the dot product of a given user vector with a movie vector \n",
    "    will be a prediction of the user's rating for that movie. \n",
    "    In this way, the weights of a movie might reflect certain qualities \n",
    "    whereas the weights of a user might reflect which qualities that particular user prefers.\n",
    "    '''\n",
    "    user_list = np.unique(data[:,0])\n",
    "    movie_list = np.unique(data[:,1])\n",
    "    user_vector = np.random.uniform(size=(len(user_list),length))\n",
    "    movie_vector = np.random.uniform(size=(len(movie_list),length))\n",
    "    \n",
    "    '''\n",
    "    Next we create vectors of the indicies for the weights vectors for the users and movies \n",
    "    in the original data from ratings.dat. \n",
    "    This is important since weight vectors for *unique* movies is not the same as the movie id, \n",
    "    since there some movies which have not been rated in the data and it would be unhelpful to have random, \n",
    "    unconstrained wieght vectors for movies not rated in the data.\n",
    "    '''\n",
    "    user_locator = np.zeros(len(data))\n",
    "    movie_locator = np.zeros(len(data))\n",
    "\n",
    "    for i in range(len(data)):\n",
    "        user_locator[i] = np.where(user_list==data[i,0])[0][0]\n",
    "        movie_locator[i] = np.where(movie_list==data[i,1])[0][0]\n",
    "    #There are some unrated movies.\n",
    "    '''\n",
    "    Next we train the weight vectors! Note that we force predictions to be between 1 and 5, \n",
    "    and include a lambda regularization factor to counteract overfitting with large weights.\n",
    "    '''\n",
    "    total_error = np.zeros(iterations)\n",
    "    for count in range(iterations):\n",
    "        for i in range(len(data)):\n",
    "            est_rating = np.dot(user_vector[int(user_locator[i])],movie_vector[int(movie_locator[i])])\n",
    "            if est_rating < 1 :\n",
    "                est_rating = 1\n",
    "            if est_rating > 5 :\n",
    "                est_rating = 5\n",
    "            error = data[i,2] - est_rating\n",
    "            user_vector[int(user_locator[i])]  += \\\n",
    "            lrate * (error * movie_vector[int(movie_locator[i])] - lamb *  user_vector[int(user_locator[i])])\n",
    "            movie_vector[int(movie_locator[i])] += \\\n",
    "            lrate * (error * user_vector[int(user_locator[i])] - lamb * movie_vector[int(movie_locator[i])])\n",
    "            total_error[count] += abs(error)\n",
    "        count += 1\n",
    "    return total_error, user_list, user_vector, movie_list, movie_vector"
   ]
  },
  {
   "cell_type": "markdown",
   "metadata": {},
   "source": [
    "Now that we have trained our network, let's take a look at how it predicts a few random entries."
   ]
  },
  {
   "cell_type": "code",
   "execution_count": 52,
   "metadata": {},
   "outputs": [
    {
     "name": "stdout",
     "output_type": "stream",
     "text": [
      "710227 2.81779780378738 4.0\n",
      "758447 2.627678295466427 2.0\n",
      "517077 2.868219260277941 2.0\n",
      "670142 3.1157056714354145 1.0\n",
      "805293 3.3205360072996277 4.0\n",
      "157314 3.4568220108502894 4.0\n",
      "925642 3.7368261511998373 4.0\n",
      "288100 2.197447691463461 2.0\n",
      "261156 3.6510271263009435 5.0\n",
      "387689 3.331272438761476 4.0\n"
     ]
    }
   ],
   "source": [
    "for i in np.random.randint(len(data), size=10):\n",
    "    print(i, np.dot(user_vector[int(user_locator[i])],movie_vector[int(movie_locator[i])]), data[i,2], )"
   ]
  },
  {
   "cell_type": "markdown",
   "metadata": {},
   "source": [
    "Not bad! Now lets see how the error changes over the course of fitting."
   ]
  },
  {
   "cell_type": "code",
   "execution_count": 53,
   "metadata": {},
   "outputs": [
    {
     "data": {
      "text/plain": [
       "Text(0, 0.5, 'Error Relative to Initial Error with Random Weights (%)')"
      ]
     },
     "execution_count": 53,
     "metadata": {},
     "output_type": "execute_result"
    },
    {
     "data": {
      "image/png": "[encoded data removed]",
      "text/plain": [
       "<Figure size 432x288 with 1 Axes>"
      ]
     },
     "metadata": {
      "needs_background": "light"
     },
     "output_type": "display_data"
    }
   ],
   "source": [
    "import matplotlib.pyplot as plt\n",
    "fig=plt.figure()\n",
    "ax=fig.add_axes([0,0,1,1])\n",
    "ax.plot(range(1, iterations+1), 100*total_error/total_error[0])\n",
    "ax.set_title('Total Error per Epoch')\n",
    "ax.set_xlabel('Epoch')\n",
    "ax.set_ylabel('Error Relative to Initial Error with Random Weights (%)')"
   ]
  },
  {
   "cell_type": "markdown",
   "metadata": {},
   "source": [
    "Now we would like to test changing the length of our weight vectors. However, adding more weights might just make our network better at over-fitting. We need to randomly seperate our data into a training and testing set. We can even split it into multiple parts, train models on each separately, and average our result for a prediction - N Fold Cross Validation.\n",
    "\n",
    "Let's start with shuffling the data and taking 20% as a test set."
   ]
  },
  {
   "cell_type": "code",
   "execution_count": 56,
   "metadata": {},
   "outputs": [],
   "source": [
    "new_data = np.copy(data)\n",
    "np.random.shuffle(new_data) # Note this only shuffles row order, individual user_id/movie_id/rate entries are the same\n",
    "test_set = new_data[0:int(len(new_data)/5)] \n",
    "training_set = new_data[int(len(new_data)/5):len(new_data)-1] "
   ]
  },
  {
   "cell_type": "markdown",
   "metadata": {},
   "source": [
    "NEXT STEPS: Retrain with 5, 10, 20 and plot as percent accuracy on test set (with rounded int right = correct, rounded int wrong = incorrect -> percent, NOT total error as above)"
   ]
  },
  {
   "cell_type": "code",
   "execution_count": null,
   "metadata": {},
   "outputs": [],
   "source": []
  },
  {
   "cell_type": "markdown",
   "metadata": {},
   "source": [
    "## N Fold Cross Validation\n",
    "In addition to regularization, another method to avoid overfitting is to break our data into N parts and train models in each part. For each epoch, the averaged error of each model on the other parts is our error, and the average rating prediction of the networks can be taken as the net prediction. \n",
    "\n",
    "First, we break our data into five parts."
   ]
  },
  {
   "cell_type": "code",
   "execution_count": 3,
   "metadata": {},
   "outputs": [
    {
     "data": {
      "text/plain": [
       "1.0"
      ]
     },
     "execution_count": 3,
     "metadata": {},
     "output_type": "execute_result"
    }
   ],
   "source": [
    "np.mean(np.array([1,2,False]))"
   ]
  },
  {
   "cell_type": "code",
   "execution_count": null,
   "metadata": {},
   "outputs": [],
   "source": []
  }
 ],
 "metadata": {
  "kernelspec": {
   "display_name": "Python 3",
   "language": "python",
   "name": "python3"
  },
  "language_info": {
   "codemirror_mode": {
    "name": "ipython",
    "version": 3
   },
   "file_extension": ".py",
   "mimetype": "text/x-python",
   "name": "python",
   "nbconvert_exporter": "python",
   "pygments_lexer": "ipython3",
   "version": "3.7.4"
  }
 },
 "nbformat": 4,
 "nbformat_minor": 2
}
