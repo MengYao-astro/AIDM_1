{
 "cells": [
  {
   "cell_type": "markdown",
   "metadata": {},
   "source": [
    "# AiDM assignment 1\n",
    "## Recommender system --- 4 naive approaches"
   ]
  },
  {
   "cell_type": "markdown",
   "metadata": {},
   "source": [
    "### Read data\n",
    "We load the ratings data into a matrix which has 4 columns. The first column gives the user id. The second column gives the movie id. The third column gives the rating which can only be a integer from 1 to 5. The fourth column gives the timestamp in a unit of second."
   ]
  },
  {
   "cell_type": "code",
   "execution_count": 6,
   "metadata": {},
   "outputs": [],
   "source": [
    "import numpy as np\n",
    "data = np.genfromtxt('ml-1m/ratings.dat', delimiter= '::')"
   ]
  },
  {
   "cell_type": "markdown",
   "metadata": {},
   "source": [
    "## First approach\n",
    "We calculate the mean of all ratings as a global rating."
   ]
  },
  {
   "cell_type": "code",
   "execution_count": 7,
   "metadata": {},
   "outputs": [
    {
     "name": "stdout",
     "output_type": "stream",
     "text": [
      "3.581564453029317\n"
     ]
    }
   ],
   "source": [
    "R_global = np.mean(data[:,2])\n",
    "print(R_global)"
   ]
  },
  {
   "cell_type": "markdown",
   "metadata": {},
   "source": [
    "## Second approach\n",
    "We calculate the mean rating of every movie."
   ]
  },
  {
   "cell_type": "code",
   "execution_count": 8,
   "metadata": {},
   "outputs": [
    {
     "name": "stdout",
     "output_type": "stream",
     "text": [
      "3706\n"
     ]
    }
   ],
   "source": [
    "movie_list = np.unique(data[:,1])\n",
    "R_movie = np.zeros((len(movie_list),2))\n",
    "for i in range(len(movie_list)):\n",
    "    marker = data[:,1] == movie_list[i]\n",
    "    R_movie[i,0] = movie_list[i]\n",
    "    R_movie[i,1] = np.mean(data[marker][:,2])\n",
    "print(len(R_movie))"
   ]
  },
  {
   "cell_type": "markdown",
   "metadata": {},
   "source": [
    "## Third approach\n",
    "We calculate the mean rating of every user."
   ]
  },
  {
   "cell_type": "code",
   "execution_count": 9,
   "metadata": {},
   "outputs": [
    {
     "name": "stdout",
     "output_type": "stream",
     "text": [
      "6040\n"
     ]
    }
   ],
   "source": [
    "user_list = np.unique(data[:,0])\n",
    "R_user = np.zeros((len(user_list),2))\n",
    "for i in range(len(user_list)):\n",
    "    marker = data[:,0] == user_list[i]\n",
    "    R_user[i,0] = user_list[i]\n",
    "    R_user[i,1] = np.mean(data[marker][:,2])\n",
    "print(len(R_user))"
   ]
  },
  {
   "cell_type": "markdown",
   "metadata": {},
   "source": [
    "## Fourth approach\n",
    "We calculate the estimated rating as a combination of mean of users and mean of movies"
   ]
  },
  {
   "cell_type": "code",
   "execution_count": 10,
   "metadata": {},
   "outputs": [
    {
     "name": "stdout",
     "output_type": "stream",
     "text": [
      "[ 0.78212853  0.8757397  -2.35619748]\n"
     ]
    }
   ],
   "source": [
    "INPUT=np.ones((len(data),3))\n",
    "for i in range(len(data)):\n",
    "    INPUT[i,0] = R_user[np.where(R_user[:,0]==data[i,0])[0][0],1]\n",
    "    INPUT[i,1] = R_movie[np.where(R_movie[:,0]==data[i,1])[0][0],1]\n",
    "result = np.linalg.lstsq(INPUT, data[:,2],rcond=None)[0]\n",
    "alpha, beta, gamma = result\n",
    "print(result)"
   ]
  }
 ],
 "metadata": {
  "kernelspec": {
   "display_name": "Python 3",
   "language": "python",
   "name": "python3"
  },
  "language_info": {
   "codemirror_mode": {
    "name": "ipython",
    "version": 3
   },
   "file_extension": ".py",
   "mimetype": "text/x-python",
   "name": "python",
   "nbconvert_exporter": "python",
   "pygments_lexer": "ipython3",
   "version": "3.7.4"
  }
 },
 "nbformat": 4,
 "nbformat_minor": 2
}
